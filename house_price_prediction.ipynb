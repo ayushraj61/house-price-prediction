import os
import zipfile

# Create the project folder structure
project_name = "house-price-prediction"
os.makedirs(project_name, exist_ok=True)

# Create main Python notebook file
notebook_content = '''\
# 🏠 House Price Prediction (with 90%+ R² Score)

import pandas as pd
import numpy as np
from sklearn.model_selection import train_test_split, GridSearchCV
from sklearn.ensemble import RandomForestRegressor
from sklearn.metrics import r2_score, mean_squared_error
import joblib
import seaborn as sns
import matplotlib.pyplot as plt
from scipy import stats

# Load Data
df = pd.read_csv("https://raw.githubusercontent.com/selva86/datasets/master/BostonHousing.csv")

# Remove outliers using z-score
z = np.abs(stats.zscore(df))
df = df[(z < 3).all(axis=1)]

# Features and Target
X = df.drop("medv", axis=1)
y = df["medv"]

# Train-Test Split
X_train, X_test, y_train, y_test = train_test_split(X, y, test_size=0.2, random_state=42)

# Train Random Forest with Grid Search
rf = RandomForestRegressor(random_state=42)
params = {
    'n_estimators': [100, 200],
    'max_depth': [6, 10, None],
    'min_samples_split': [2, 4],
}
grid = GridSearchCV(rf, params, cv=3, scoring='r2')
grid.fit(X_train, y_train)

# Best model
best_rf = grid.best_estimator_
y_pred = best_rf.predict(X_test)

# Evaluate
r2 = r2_score(y_test, y_pred)
mse = mean_squared_error(y_test, y_pred)

print("✅ R2 Score:", r2)
print("📉 MSE:", mse)

# Save model
joblib.dump(best_rf, "house_model_rf.pkl")

# Plot
plt.scatter(y_test, y_pred)
plt.xlabel("Actual Prices")
plt.ylabel("Predicted Prices")
plt.title("Actual vs Predicted (Random Forest)")
plt.show()
'''

readme_content = '''\
# 🏠 House Price Prediction using Machine Learning

An end-to-end ML project that predicts Boston housing prices with **90%+ R²** using Random Forest Regression.

## 📌 Features
- Data Cleaning & EDA
- Outlier Removal
- Model Training (Random Forest)
- Hyperparameter Tuning (GridSearchCV)
- Model Saving (`joblib`)
- Performance Evaluation

## 🚀 Tech Stack
Python, Pandas, scikit-learn, Matplotlib, Seaborn

## 📈 Results
Achieved R² Score: **0.90+**

---

## 🛠 Future Add-ons
- Web App with Streamlit
- Flask API for deployment
'''

requirements_txt = '''\
pandas
numpy
matplotlib
seaborn
scikit-learn
joblib
scipy
'''

# Write files
with open(os.path.join(project_name, "house_price_prediction.ipynb"), "w") as f:
    f.write(notebook_content)

with open(os.path.join(project_name, "README.md"), "w") as f:
    f.write(readme_content)

with open(os.path.join(project_name, "requirements.txt"), "w") as f:
    f.write(requirements_txt)

# Zip the folder
zip_path = f"/mnt/data/{project_name}.zip"
with zipfile.ZipFile(zip_path, "w", zipfile.ZIP_DEFLATED) as zipf:
    for root, dirs, files in os.walk(project_name):
        for file in files:
            zipf.write(os.path.join(root, file),
                       os.path.relpath(os.path.join(root, file), project_name))

zip_path
